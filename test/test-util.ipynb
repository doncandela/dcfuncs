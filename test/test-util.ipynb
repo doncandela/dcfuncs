{
 "cells": [
  {
   "cell_type": "markdown",
   "id": "b8e1088c-e003-4425-bcb5-2d7f2a997ea1",
   "metadata": {},
   "source": [
    "#### dcfuncs/test/test-util.ipynb 8/19/24  D.C.\n",
    "\n",
    "Test the functions in `dcfuncs.util` in a Jupyter Notebook"
   ]
  },
  {
   "cell_type": "code",
   "execution_count": 1,
   "id": "4b4326c4-65f4-44ce-941c-7ca7275be0a9",
   "metadata": {},
   "outputs": [
    {
     "name": "stdout",
     "output_type": "stream",
     "text": [
      "Using: util.py 8/18/24 D.C.\n"
     ]
    }
   ],
   "source": [
    "# Test can import dfuncs.util\n",
    "import numpy as np\n",
    "import dcfuncs.util as dutil\n",
    "print(f'Using: {dutil.THIS_IS}')"
   ]
  },
  {
   "cell_type": "code",
   "execution_count": 4,
   "id": "85f18e29-b808-497f-92f5-90255aa9ed75",
   "metadata": {},
   "outputs": [
    {
     "name": "stdout",
     "output_type": "stream",
     "text": [
      "\n",
      "Testing zz:\n",
      "- WARNING from util.py test code - This is just a warning.\n"
     ]
    }
   ],
   "source": [
    "print('\\nTesting zz:')\n",
    "# dutil.zz('util.py test code','Doing an error exit.')\n",
    "dutil.zz('util.py test code','This is just a warning.',warn=True)"
   ]
  },
  {
   "cell_type": "code",
   "execution_count": 6,
   "id": "cf5e7448-2978-4a4c-b897-cb425805f2cd",
   "metadata": {},
   "outputs": [
    {
     "name": "stdout",
     "output_type": "stream",
     "text": [
      "\n",
      "Testing stoi:\n",
      "stoi results = 93801881091158, 6318, 249613385242335\n"
     ]
    }
   ],
   "source": [
    "print('\\nTesting stoi:')\n",
    "s1 = dutil.stoi('dcfuncs/util.py')\n",
    "s2 = dutil.stoi('foo')\n",
    "s3 = dutil.stoi('Have a nice day!')\n",
    "print(f'stoi results = {s1}, {s2}, {s3}')"
   ]
  },
  {
   "cell_type": "code",
   "execution_count": 7,
   "id": "5a516bbb-8897-4c7d-8e60-7454614a5eae",
   "metadata": {},
   "outputs": [
    {
     "name": "stdout",
     "output_type": "stream",
     "text": [
      "\n",
      "Testing get_units:\n",
      "9.365e+04 m should be printed as 93.648 km and use '93.648 km' when plotting\n",
      "1.739e-03 m should be printed as 1.739 mm and use '1.739 mm' when plotting\n",
      "4.200e+01 m should be printed as 42.000 m and use '42.000 m' when plotting\n",
      "4.500e-05 m should be printed as 45.000 micro-m and use '45.000 $\\mu$m' when plotting\n"
     ]
    }
   ],
   "source": [
    "print('\\nTesting get_units:')\n",
    "for x in (np.pi**10,1/575,42,45e-6):\n",
    "    umult,ustr,ustrp = dutil.get_units(x)\n",
    "    print(f'{x:.3e} m should be printed as {umult*x:.3f} {ustr}m'\n",
    "          f' and use \\'{umult*x:.3f} {ustrp+\"m\"}\\' when plotting')"
   ]
  },
  {
   "cell_type": "code",
   "execution_count": 8,
   "id": "75cafdbe-1e10-4f31-be40-6b324b4cf4e9",
   "metadata": {},
   "outputs": [
    {
     "name": "stdout",
     "output_type": "stream",
     "text": [
      "\n",
      "Testing CpuTimer:\n",
      "Final values a4=100,000  a6=10,000,000\n",
      "- ----------------------------------------------------------------------\n",
      "-             Total time for test timer      0.477s = 0.000h\n",
      "-                         1e4 additions      0.005s,  1.0% of total\n",
      "-                         1e6 additions      0.472s, 99.0% of total\n",
      "- ----------------------------------------------------------------------\n"
     ]
    }
   ],
   "source": [
    "print('\\nTesting CpuTimer:')\n",
    "timer = dutil.CpuTimer('test timer',defitems=(('e4a','1e4 additions'),\n",
    "                                              ('e6a','1e6 additions')))\n",
    "a4,a6 = 0,0\n",
    "for e in range(10):\n",
    "    timer.mark()\n",
    "    for j in range(10_000):\n",
    "        a4 += 1\n",
    "    timer.mark('e4a')\n",
    "    for j in range(1_000_000):\n",
    "        a6 += 1\n",
    "    timer.mark('e6a')\n",
    "print(f'Final values a4={a4:,.0f}  a6={a6:,.0f}')\n",
    "timer.print_times()"
   ]
  },
  {
   "cell_type": "code",
   "execution_count": 9,
   "id": "a18e6278-e9c9-4519-8324-1e7bfc519f50",
   "metadata": {},
   "outputs": [
    {
     "name": "stdout",
     "output_type": "stream",
     "text": [
      "\n",
      "(no test code so far for NVTI and SimArrays)\n"
     ]
    }
   ],
   "source": [
    "print('\\n(no test code so far for NVTI and SimArrays)')"
   ]
  }
 ],
 "metadata": {
  "kernelspec": {
   "display_name": "Python 3 (ipykernel)",
   "language": "python",
   "name": "python3"
  },
  "language_info": {
   "codemirror_mode": {
    "name": "ipython",
    "version": 3
   },
   "file_extension": ".py",
   "mimetype": "text/x-python",
   "name": "python",
   "nbconvert_exporter": "python",
   "pygments_lexer": "ipython3",
   "version": "3.12.4"
  }
 },
 "nbformat": 4,
 "nbformat_minor": 5
}
